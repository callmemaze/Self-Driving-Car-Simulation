{
  "cells": [
    {
      "cell_type": "markdown",
      "metadata": {
        "id": "91weonW3orjL"
      },
      "source": [
        "# **Importing Package**\n",
        "Importing dependencies"
      ]
    },
    {
      "cell_type": "code",
      "execution_count": 1,
      "metadata": {
        "id": "Qp02k_-g0Ry4"
      },
      "outputs": [],
      "source": [
        "import numpy as np\n",
        "import pandas as pd\n",
        "import os\n",
        "from matplotlib import pyplot as plt\n",
        "from sklearn.utils import shuffle\n",
        "from sklearn.model_selection import train_test_split\n",
        "from imgaug import augmenters as aug\n",
        "import matplotlib.image as mpimg\n",
        "import cv2\n",
        "import random\n",
        "from tensorflow.keras.models import Sequential\n",
        "from tensorflow.keras.layers import Conv2D, Flatten, Dense, BatchNormalization\n",
        "from tensorflow.keras.optimizers import Adam"
      ]
    },
    {
      "cell_type": "markdown",
      "metadata": {
        "id": "OJX18m9Xr76O"
      },
      "source": [
        "Split the path name and give sonly the name of the file"
      ]
    },
    {
      "cell_type": "code",
      "execution_count": 2,
      "metadata": {
        "id": "CXzSSHhF1AFL"
      },
      "outputs": [],
      "source": [
        "def getName(filePath):\n",
        "  return filePath.split(\"/\")[-1]"
      ]
    },
    {
      "cell_type": "markdown",
      "metadata": {
        "id": "-BJW7xvvo7mG"
      },
      "source": [
        "# **Reading Datasets**\n",
        "\n",
        "I have imported training data from my google drive.  "
      ]
    },
    {
      "cell_type": "code",
      "execution_count": 3,
      "metadata": {
        "id": "PMGOPPkNz9VX"
      },
      "outputs": [],
      "source": [
        "def importDataInfo(path):\n",
        "  columns = [\"Center\", \"Left\", \"Right\", \"Steering\", \"Throttle\", \"Brake\", \"Speed\"]\n",
        "  data = pd.read_csv(os.path.join(path,\"driving_log.csv\"), names=columns)\n",
        "  print(getName(data[\"Center\"][0]))\n",
        "  data[\"Center\"] = data[\"Center\"].apply(getName)\n",
        "  print(data.head())\n",
        "  return data"
      ]
    },
    {
      "cell_type": "markdown",
      "metadata": {
        "id": "NPkzeBMIsQxe"
      },
      "source": [
        "## Google Drive Path"
      ]
    },
    {
      "cell_type": "code",
      "execution_count": 4,
      "metadata": {
        "colab": {
          "base_uri": "https://localhost:8080/"
        },
        "id": "h4BD6yQvzi9B",
        "outputId": "35d457fe-9aa5-49ac-bae7-fc82634b1adc"
      },
      "outputs": [
        {
          "output_type": "stream",
          "name": "stdout",
          "text": [
            "center_2022_01_21_16_31_12_631.jpg\n",
            "                               Center  ...     Speed\n",
            "0  center_2022_01_21_16_31_12_631.jpg  ...  0.000078\n",
            "1  center_2022_01_21_16_31_12_732.jpg  ...  0.000079\n",
            "2  center_2022_01_21_16_31_12_836.jpg  ...  0.000079\n",
            "3  center_2022_01_21_16_31_12_939.jpg  ...  0.000080\n",
            "4  center_2022_01_21_16_31_13_039.jpg  ...  0.000082\n",
            "\n",
            "[5 rows x 7 columns]\n"
          ]
        }
      ],
      "source": [
        "path = \"drive/MyDrive/data\"\n",
        "data = importDataInfo(path)"
      ]
    },
    {
      "cell_type": "markdown",
      "metadata": {
        "id": "4PEmGC4BsZlH"
      },
      "source": [
        "# **Checking and Removing Baisedness**\n",
        "\n",
        "Balancing the data for right and left steering \n"
      ]
    },
    {
      "cell_type": "code",
      "execution_count": 5,
      "metadata": {
        "id": "fV0amn3j31gZ"
      },
      "outputs": [],
      "source": [
        "def balanceBiased(data, display=True):\n",
        "  nBins = 31\n",
        "  samplesPerBin = 1000\n",
        "  hist, bins = np.histogram(data['Steering'],nBins)\n",
        "  if display:\n",
        "    center = (bins[:-1] + bins[1:])*0.5\n",
        "    plt.bar(center, hist, width = 0.06)\n",
        "    plt.plot((-1,1), (samplesPerBin, samplesPerBin))\n",
        "    plt.show()\n",
        "  removeIndex = []\n",
        "  for j in range(nBins):\n",
        "    binDataList = []\n",
        "    for i in range(len(data[\"Steering\"])):\n",
        "      if data[\"Steering\"][i] >= bins[j] and data[\"Steering\"][i] <= bins[j+1]:\n",
        "        binDataList.append(i)\n",
        "    binDataList = shuffle(binDataList)\n",
        "    binDataList = binDataList[samplesPerBin:]\n",
        "    removeIndex.extend(binDataList)\n",
        "  print(\"Removed Images: \", len(removeIndex)) \n",
        "  data.drop(data.index[removeIndex], inplace = True)\n",
        "  print(\"Images Remains\", len(data)) \n",
        "  if display:\n",
        "    hist, _ = np.histogram(data['Steering'],nBins)\n",
        "    plt.bar(center, hist, width = 0.06)\n",
        "    plt.plot((-1,1), (samplesPerBin, samplesPerBin))\n",
        "    plt.show()\n",
        "  return data\n"
      ]
    },
    {
      "cell_type": "code",
      "execution_count": 6,
      "metadata": {
        "colab": {
          "base_uri": "https://localhost:8080/",
          "height": 548
        },
        "id": "Al1n8y05tgId",
        "outputId": "016e5aa3-cacb-49dd-bc4f-8a2fd8ba2545"
      },
      "outputs": [
        {
          "output_type": "display_data",
          "data": {
            "image/png": "[encoded data removed]",
            "text/plain": [
              "<Figure size 432x288 with 1 Axes>"
            ]
          },
          "metadata": {
            "needs_background": "light"
          }
        },
        {
          "output_type": "stream",
          "name": "stdout",
          "text": [
            "Removed Images:  2009\n",
            "Images Remains 1878\n"
          ]
        },
        {
          "output_type": "display_data",
          "data": {
            "image/png": "[encoded data removed]",
            "text/plain": [
              "<Figure size 432x288 with 1 Axes>"
            ]
          },
          "metadata": {
            "needs_background": "light"
          }
        }
      ],
      "source": [
        "data = balanceBiased(data, display=True)"
      ]
    },
    {
      "cell_type": "markdown",
      "metadata": {
        "id": "sbELHK6TtW6l"
      },
      "source": [
        "# **Appending Image from IMG Folder**\n",
        "\n",
        "Converting images as an array"
      ]
    },
    {
      "cell_type": "code",
      "execution_count": 7,
      "metadata": {
        "id": "EDA2EoOvtlCm"
      },
      "outputs": [],
      "source": [
        "imagesPath = []\n",
        "steering = []\n",
        "for i in range(len(data)):\n",
        "  indexData = data.iloc[i]\n",
        "  imagesPath.append(os.path.join(path, \"IMG\", indexData[0]))\n",
        "  steering.append(float(indexData[3]))\n",
        "imagesPath = np.asarray(imagesPath)\n",
        "steering = np.asarray(steering)"
      ]
    },
    {
      "cell_type": "markdown",
      "metadata": {
        "id": "tiCKy87wtssq"
      },
      "source": [
        "# **Spliting Datasets into Training and Validation** "
      ]
    },
    {
      "cell_type": "code",
      "execution_count": 8,
      "metadata": {
        "id": "M-3k1nZL0qvb"
      },
      "outputs": [],
      "source": [
        "x_train, x_val, y_train, y_val = train_test_split(imagesPath, steering, test_size=0.2, random_state=5)"
      ]
    },
    {
      "cell_type": "code",
      "execution_count": 9,
      "metadata": {
        "colab": {
          "base_uri": "https://localhost:8080/"
        },
        "id": "pfqgzNUo1Z18",
        "outputId": "6b1e3baa-adfa-47ec-8812-fdba5b69294d"
      },
      "outputs": [
        {
          "output_type": "execute_result",
          "data": {
            "text/plain": [
              "(1502,)"
            ]
          },
          "metadata": {},
          "execution_count": 9
        }
      ],
      "source": [
        "x_train.shape"
      ]
    },
    {
      "cell_type": "markdown",
      "metadata": {
        "id": "Iv-jSfoGt4KN"
      },
      "source": [
        "# **Data Augmentation**\n",
        "\n",
        "Image is fliped, Zoomed, Brightness "
      ]
    },
    {
      "cell_type": "code",
      "execution_count": 10,
      "metadata": {
        "id": "4jGn-Dcj1dSd"
      },
      "outputs": [],
      "source": [
        "def augmentImage(imgPath, steering):\n",
        "  img = mpimg.imread(imgPath)\n",
        "  if np.random.rand() < 0.5:\n",
        "    pan = aug.Affine(translate_percent={'x': (-0.1,0.1),'y': (-0.1,0.1)})\n",
        "    img = pan.augment_image(img)\n",
        "  if np.random.rand() < 0.5:\n",
        "    zoom = aug.Affine(scale=(1,1.2))\n",
        "    img = zoom.augment_image(img)\n",
        "  if np.random.rand() < 0.5:\n",
        "    brightness = aug.Multiply((0.4,1.2))\n",
        "    img = brightness.augment_image(img)\n",
        "  if np.random.rand() < 0.5: \n",
        "    img = cv2.flip(img, 1)\n",
        "    steering = -steering\n",
        "  return img, steering"
      ]
    },
    {
      "cell_type": "markdown",
      "metadata": {
        "id": "ghiGk_rnuhfr"
      },
      "source": [
        "# **PreProcessing Image**\n",
        "\n",
        "- Converting RGB Image into YUV \n",
        "- Adding Gaussian Blur\n",
        "- Resizing Image\n"
      ]
    },
    {
      "cell_type": "code",
      "execution_count": 11,
      "metadata": {
        "id": "p4Glr6bH5cD7"
      },
      "outputs": [],
      "source": [
        "def preProcessing(img):\n",
        "  img = img[60:135,:,:]\n",
        "  img = cv2.cvtColor(img, cv2.COLOR_RGB2YUV)\n",
        "  img = cv2.GaussianBlur(img, (3,3),0)\n",
        "  img = cv2.resize(img, (200,68))\n",
        "  img = img / 255\n",
        "  return img"
      ]
    },
    {
      "cell_type": "markdown",
      "metadata": {
        "id": "Ndm93CQjvlrE"
      },
      "source": [
        "# **Generating Batches**\n",
        "\n",
        "This function is an python generator so it yeild instead of returning"
      ]
    },
    {
      "cell_type": "code",
      "execution_count": 12,
      "metadata": {
        "id": "yPTg4F0CgZo3"
      },
      "outputs": [],
      "source": [
        "def batchGen(imagesPath, steeringList, batchSize, trainFlag):\n",
        "  while True:\n",
        "    imgBatch = []\n",
        "    steeringBatch = []\n",
        "    for i in range(batchSize):\n",
        "      index = random.randint(0, len(imagesPath)-1)\n",
        "      if trainFlag:\n",
        "        img, steering = augmentImage(imagesPath[index], steeringList[index])\n",
        "      else:\n",
        "        img = mpimg.imread(imagesPath[index])  \n",
        "        steering = steeringList[index]\n",
        "      img = preProcessing(img)\n",
        "      imgBatch.append(img)\n",
        "      steeringBatch.append(steering)\n",
        "    yield (np.asarray(imgBatch), np.asarray(steeringBatch))"
      ]
    },
    {
      "cell_type": "markdown",
      "metadata": {
        "id": "RHVHmbejv-Gt"
      },
      "source": [
        "# **Creating a Convolutional Neural Network Model**"
      ]
    },
    {
      "cell_type": "code",
      "execution_count": 16,
      "metadata": {
        "id": "IrmDFTUAif2F"
      },
      "outputs": [],
      "source": [
        "model = Sequential()\n",
        "model.add(Conv2D(24,(5,5),(2,2), input_shape=(66,200,3), activation=\"elu\"))\n",
        "model.add(BatchNormalization())\n",
        "model.add(Conv2D(36,(5,5),(2,2) ,activation=\"elu\"))\n",
        "model.add(BatchNormalization())\n",
        "model.add(Conv2D(48,(5,5), activation=\"elu\"))\n",
        "model.add(BatchNormalization())\n",
        "model.add(Conv2D(64,(3,3), activation=\"elu\"))\n",
        "model.add(BatchNormalization())\n",
        "model.add(Conv2D(64,(3,3), activation=\"elu\"))\n",
        "model.add(BatchNormalization())\n",
        "model.add(Flatten())\n",
        "model.add(Dense(100,activation='elu'))\n",
        "model.add(Dense(50,activation='elu'))\n",
        "model.add(Dense(10,activation='elu'))\n",
        "model.add(Dense(1))\n",
        "model.compile(Adam(learning_rate=0.001),loss = \"mse\")"
      ]
    },
    {
      "cell_type": "code",
      "execution_count": 17,
      "metadata": {
        "colab": {
          "base_uri": "https://localhost:8080/"
        },
        "id": "LRZ66p9TnN5j",
        "outputId": "ff756266-0298-4ecf-a283-b50c45c68513"
      },
      "outputs": [
        {
          "output_type": "stream",
          "name": "stdout",
          "text": [
            "Model: \"sequential_1\"\n",
            "_________________________________________________________________\n",
            " Layer (type)                Output Shape              Param #   \n",
            "=================================================================\n",
            " conv2d_5 (Conv2D)           (None, 31, 98, 24)        1824      \n",
            "                                                                 \n",
            " batch_normalization_4 (Batc  (None, 31, 98, 24)       96        \n",
            " hNormalization)                                                 \n",
            "                                                                 \n",
            " conv2d_6 (Conv2D)           (None, 14, 47, 36)        21636     \n",
            "                                                                 \n",
            " batch_normalization_5 (Batc  (None, 14, 47, 36)       144       \n",
            " hNormalization)                                                 \n",
            "                                                                 \n",
            " conv2d_7 (Conv2D)           (None, 10, 43, 48)        43248     \n",
            "                                                                 \n",
            " batch_normalization_6 (Batc  (None, 10, 43, 48)       192       \n",
            " hNormalization)                                                 \n",
            "                                                                 \n",
            " conv2d_8 (Conv2D)           (None, 8, 41, 64)         27712     \n",
            "                                                                 \n",
            " batch_normalization_7 (Batc  (None, 8, 41, 64)        256       \n",
            " hNormalization)                                                 \n",
            "                                                                 \n",
            " conv2d_9 (Conv2D)           (None, 6, 39, 64)         36928     \n",
            "                                                                 \n",
            " batch_normalization_8 (Batc  (None, 6, 39, 64)        256       \n",
            " hNormalization)                                                 \n",
            "                                                                 \n",
            " flatten_1 (Flatten)         (None, 14976)             0         \n",
            "                                                                 \n",
            " dense_4 (Dense)             (None, 100)               1497700   \n",
            "                                                                 \n",
            " dense_5 (Dense)             (None, 50)                5050      \n",
            "                                                                 \n",
            " dense_6 (Dense)             (None, 10)                510       \n",
            "                                                                 \n",
            " dense_7 (Dense)             (None, 1)                 11        \n",
            "                                                                 \n",
            "=================================================================\n",
            "Total params: 1,635,563\n",
            "Trainable params: 1,635,091\n",
            "Non-trainable params: 472\n",
            "_________________________________________________________________\n"
          ]
        }
      ],
      "source": [
        "model.summary()"
      ]
    },
    {
      "cell_type": "markdown",
      "metadata": {
        "id": "ksbc76NBwKmt"
      },
      "source": [
        "# **Fitting Into The Model**"
      ]
    },
    {
      "cell_type": "code",
      "execution_count": 18,
      "metadata": {
        "colab": {
          "base_uri": "https://localhost:8080/"
        },
        "id": "ll8Jbiqpn3Te",
        "outputId": "d3df0e7d-c17f-47d9-8722-da2517813461"
      },
      "outputs": [
        {
          "output_type": "stream",
          "name": "stdout",
          "text": [
            "Epoch 1/10\n",
            "300/300 [==============================] - 330s 1s/step - loss: 0.6347 - val_loss: 0.0430\n",
            "Epoch 2/10\n",
            "300/300 [==============================] - 323s 1s/step - loss: 0.0528 - val_loss: 0.0355\n",
            "Epoch 3/10\n",
            "300/300 [==============================] - 327s 1s/step - loss: 0.0397 - val_loss: 0.0345\n",
            "Epoch 4/10\n",
            "300/300 [==============================] - 328s 1s/step - loss: 0.0342 - val_loss: 0.0325\n",
            "Epoch 5/10\n",
            "300/300 [==============================] - 326s 1s/step - loss: 0.0319 - val_loss: 0.0330\n",
            "Epoch 6/10\n",
            "300/300 [==============================] - 326s 1s/step - loss: 0.0293 - val_loss: 0.0346\n",
            "Epoch 7/10\n",
            "300/300 [==============================] - 325s 1s/step - loss: 0.0291 - val_loss: 0.0310\n",
            "Epoch 8/10\n",
            "300/300 [==============================] - 326s 1s/step - loss: 0.0279 - val_loss: 0.0323\n",
            "Epoch 9/10\n",
            "300/300 [==============================] - 327s 1s/step - loss: 0.0259 - val_loss: 0.0313\n",
            "Epoch 10/10\n",
            "300/300 [==============================] - 325s 1s/step - loss: 0.0252 - val_loss: 0.0300\n"
          ]
        }
      ],
      "source": [
        "history = model.fit(batchGen(x_train, y_train, 100, 1), steps_per_epoch=300, epochs=10, validation_data=batchGen(x_val, y_val, 100, 0), validation_steps=200)"
      ]
    },
    {
      "cell_type": "markdown",
      "metadata": {
        "id": "nWg0fXP8wP_v"
      },
      "source": [
        "# **Saving the Model**\n",
        "\n",
        "Also Ploting the Training Loss and validation Loss"
      ]
    },
    {
      "cell_type": "code",
      "execution_count": 19,
      "metadata": {
        "colab": {
          "base_uri": "https://localhost:8080/",
          "height": 312
        },
        "id": "NNEcIIf06jrD",
        "outputId": "ca89107c-5635-43be-ddf7-6d53aea60e9a"
      },
      "outputs": [
        {
          "output_type": "stream",
          "name": "stdout",
          "text": [
            "Model Saved\n"
          ]
        },
        {
          "output_type": "display_data",
          "data": {
            "image/png": "[encoded data removed]",
            "text/plain": [
              "<Figure size 432x288 with 1 Axes>"
            ]
          },
          "metadata": {
            "needs_background": "light"
          }
        }
      ],
      "source": [
        "model.save(\"model.h5\")\n",
        "print(\"Model Saved\")\n",
        "plt.plot(history.history['loss'])\n",
        "plt.plot(history.history['val_loss'])\n",
        "plt.legend(['Training', 'validation'])\n",
        "plt.title('Loss')\n",
        "plt.xlabel(\"Epoch\")\n",
        "plt.show()"
      ]
    }
  ],
  "metadata": {
    "accelerator": "GPU",
    "colab": {
      "collapsed_sections": [],
      "name": "Self_Driving.ipynb",
      "provenance": []
    },
    "kernelspec": {
      "display_name": "Python 3",
      "name": "python3"
    },
    "language_info": {
      "name": "python"
    }
  },
  "nbformat": 4,
  "nbformat_minor": 0
}